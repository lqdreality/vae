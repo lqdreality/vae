{
 "cells": [
  {
   "cell_type": "code",
   "execution_count": null,
   "metadata": {},
   "outputs": [],
   "source": [
    "%load_ext autoreload\n",
    "%autoreload 2\n",
    "from scipy.io import loadmat\n",
    "import matplotlib.pyplot as plt\n",
    "import VAE\n",
    "import numpy as np"
   ]
  },
  {
   "cell_type": "markdown",
   "metadata": {},
   "source": [
    "## Load in the Frey Face Data"
   ]
  },
  {
   "cell_type": "code",
   "execution_count": null,
   "metadata": {},
   "outputs": [],
   "source": [
    "ff = loadmat('../data/frey_rawface.mat')\n",
    "ff = ff[\"ff\"].T.reshape((-1, 28, 20))\n",
    "print ff.shape\n",
    "x_train = ff[:1800]\n",
    "x_test = ff[1800:1900]\n",
    "x_train = x_train.astype('float32') / 255.\n",
    "x_test = x_test.astype('float32') / 255.\n",
    "x_train_re = x_train.reshape((len(x_train), 28*20))\n",
    "x_test_re = x_test.reshape((len(x_test), 28*20))"
   ]
  },
  {
   "cell_type": "code",
   "execution_count": null,
   "metadata": {},
   "outputs": [],
   "source": [
    "%matplotlib notebook\n",
    "plt.imshow(ff[66,:,:])"
   ]
  },
  {
   "cell_type": "code",
   "execution_count": null,
   "metadata": {},
   "outputs": [],
   "source": [
    "v = VAE.VAE(param_file='../params/homo_gauss_gauss_freyface.json') # const var\n",
    "print v.params\n",
    "v.construct()"
   ]
  },
  {
   "cell_type": "markdown",
   "metadata": {},
   "source": [
    "## Optionally load a previously trained VAE"
   ]
  },
  {
   "cell_type": "code",
   "execution_count": null,
   "metadata": {},
   "outputs": [],
   "source": [
    "LOAD_MODEL = True\n",
    "if LOAD_MODEL :\n",
    "    v.model.load_weights('../saved_models/homo_gauss_gauss_freyface.h5')"
   ]
  },
  {
   "cell_type": "markdown",
   "metadata": {},
   "source": [
    "## Fit the VAE"
   ]
  },
  {
   "cell_type": "code",
   "execution_count": null,
   "metadata": {},
   "outputs": [],
   "source": [
    "v.fit(x_train_re, shuffle=True, add_axis=False)"
   ]
  },
  {
   "cell_type": "markdown",
   "metadata": {},
   "source": [
    "## Optionally save the VAE"
   ]
  },
  {
   "cell_type": "code",
   "execution_count": null,
   "metadata": {},
   "outputs": [],
   "source": [
    "v.model.save_weights('../saved_models/homo_gauss_gauss_freyface.h5')"
   ]
  },
  {
   "cell_type": "markdown",
   "metadata": {},
   "source": [
    "## Run Model on test data"
   ]
  },
  {
   "cell_type": "code",
   "execution_count": null,
   "metadata": {},
   "outputs": [],
   "source": [
    "pred = v.model.predict(x_test_re, batch_size=100).reshape(len(x_test_re),28,20)\n",
    "print pred.shape"
   ]
  },
  {
   "cell_type": "code",
   "execution_count": null,
   "metadata": {},
   "outputs": [],
   "source": [
    "%matplotlib notebook\n",
    "example = 0\n",
    "plt.imshow(pred[example,:,:])"
   ]
  },
  {
   "cell_type": "markdown",
   "metadata": {},
   "source": [
    "## Encode some data"
   ]
  },
  {
   "cell_type": "code",
   "execution_count": null,
   "metadata": {},
   "outputs": [],
   "source": [
    "z = v.encode(x_test_re, 'mu')\n",
    "print z.shape"
   ]
  },
  {
   "cell_type": "code",
   "execution_count": null,
   "metadata": {},
   "outputs": [],
   "source": [
    "%matplotlib notebook\n",
    "plt.scatter(z[:,0],z[:,1])\n",
    "plt.grid()\n",
    "plt.show()\n",
    "plt.xlabel('mu_1')\n",
    "plt.ylabel('mu_2')"
   ]
  },
  {
   "cell_type": "markdown",
   "metadata": {},
   "source": [
    "## Decode some data"
   ]
  },
  {
   "cell_type": "code",
   "execution_count": null,
   "metadata": {},
   "outputs": [],
   "source": [
    "batch_size = 5\n",
    "Z = np.array([[-0.15,-0.1],\n",
    "              [0.15,-0.1],\n",
    "              [0.15,0.08],\n",
    "              [-0.15,0.08],\n",
    "              [0.0,0.0]])\n",
    "Z = np.array([[-10,-10],\n",
    "              [10,-10],\n",
    "              [10,10],\n",
    "              [-10,10],\n",
    "              [0.0,0.0]])\n",
    "x = v.decode(Z, 'Decode1').reshape(batch_size, 28, 20)\n",
    "x_0_0 = x[4,:,:]\n",
    "print x.shape"
   ]
  },
  {
   "cell_type": "markdown",
   "metadata": {},
   "source": [
    "## Plot Decoded Data"
   ]
  },
  {
   "cell_type": "code",
   "execution_count": null,
   "metadata": {},
   "outputs": [],
   "source": [
    "%matplotlib notebook\n",
    "for i in np.arange(0,x.shape[0]-1) :\n",
    "    plt.subplot(2,2,i+1)\n",
    "    plt.imshow(x[i,:,:])\n",
    "    plt.gca().axes.get_xaxis().set_visible(False)\n",
    "    plt.gca().axes.get_yaxis().set_visible(False)\n",
    "plt.show()"
   ]
  },
  {
   "cell_type": "markdown",
   "metadata": {},
   "source": [
    "## Plot Diffs of decoded data"
   ]
  },
  {
   "cell_type": "code",
   "execution_count": null,
   "metadata": {},
   "outputs": [],
   "source": [
    "%matplotlib notebook\n",
    "for i in np.arange(0,x.shape[0]-1) :\n",
    "    plt.subplot(2,2,i+1)\n",
    "    plt.imshow(np.abs(x[i,:,:]-x_0_0))\n",
    "    #plt.clim(0,0.004)\n",
    "    plt.title('[mu_1, mu_2] = ' + str(Z[i,:]))\n",
    "    plt.colorbar()\n",
    "    plt.gca().axes.get_xaxis().set_visible(False)\n",
    "    plt.gca().axes.get_yaxis().set_visible(False)\n",
    "plt.show()"
   ]
  },
  {
   "cell_type": "code",
   "execution_count": null,
   "metadata": {},
   "outputs": [],
   "source": [
    "from ipywidgets import FloatSlider, interact"
   ]
  },
  {
   "cell_type": "code",
   "execution_count": null,
   "metadata": {},
   "outputs": [],
   "source": [
    "%matplotlib notebook\n",
    "z1 = FloatSlider(min=-15, max=15, step=1, value=0)\n",
    "z2 = FloatSlider(min=-15, max=15, step=1, value=0)\n",
    "\n",
    "@interact(z1=z1, z2=z2)\n",
    "def do_thumb(z1,z2):\n",
    "    Z = np.array([[z1,z2]])\n",
    "    x = v.decode(Z, 'Decode1').reshape(28, 20)\n",
    "    face = x\n",
    "    plt.figure(figsize=(5, 5))\n",
    "    ax = plt.subplot(111)\n",
    "    #ax.imshow(np.abs(face-x_0_0))\n",
    "    ax.imshow(np.abs(face))\n",
    "    plt.axis(\"off\")"
   ]
  }
 ],
 "metadata": {
  "kernelspec": {
   "display_name": "Python 2",
   "language": "python",
   "name": "python2"
  },
  "language_info": {
   "codemirror_mode": {
    "name": "ipython",
    "version": 2
   },
   "file_extension": ".py",
   "mimetype": "text/x-python",
   "name": "python",
   "nbconvert_exporter": "python",
   "pygments_lexer": "ipython2",
   "version": "2.7.13"
  }
 },
 "nbformat": 4,
 "nbformat_minor": 2
}
