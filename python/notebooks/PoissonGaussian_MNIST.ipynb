{
 "cells": [
  {
   "cell_type": "code",
   "execution_count": null,
   "metadata": {},
   "outputs": [],
   "source": [
    "%load_ext autoreload\n",
    "%autoreload 2\n",
    "import VAE\n",
    "from keras.datasets import mnist\n",
    "from keras.models import load_model\n",
    "import matplotlib.pyplot as plt\n",
    "import numpy as np"
   ]
  },
  {
   "cell_type": "markdown",
   "metadata": {},
   "source": [
    "## Load MNIST Data and split into test/train"
   ]
  },
  {
   "cell_type": "code",
   "execution_count": null,
   "metadata": {},
   "outputs": [],
   "source": [
    "(x_train, y_train), (x_test, y_test) = mnist.load_data()\n",
    "x_train = x_train.astype('float32') / 255.\n",
    "x_test = x_test.astype('float32') / 255.\n",
    "x_train_re = x_train.reshape(x_train.shape[0], x_train.shape[1]*x_train.shape[2])\n",
    "x_test_re = x_test.reshape(x_test.shape[0], x_test.shape[1]*x_test.shape[2])\n",
    "print x_train_re.shape\n",
    "print x_test_re.shape"
   ]
  },
  {
   "cell_type": "markdown",
   "metadata": {},
   "source": [
    "## Instaniate Poisson-Gaussian VAE and Load Params"
   ]
  },
  {
   "cell_type": "code",
   "execution_count": null,
   "metadata": {},
   "outputs": [],
   "source": [
    "v = VAE.VAE(param_file='../params/poisson_gauss_mnist.json')\n",
    "print v.params\n",
    "v.construct()"
   ]
  },
  {
   "cell_type": "markdown",
   "metadata": {},
   "source": [
    "## Fit the VAE"
   ]
  },
  {
   "cell_type": "code",
   "execution_count": null,
   "metadata": {},
   "outputs": [],
   "source": [
    "v.fit(x_train_re > 0.5, shuffle=True)"
   ]
  },
  {
   "cell_type": "code",
   "execution_count": null,
   "metadata": {},
   "outputs": [],
   "source": [
    "v.model.save_weights('../saved_models/poisson_gauss_mnist.h5')"
   ]
  },
  {
   "cell_type": "markdown",
   "metadata": {},
   "source": [
    "## Run model on test data"
   ]
  },
  {
   "cell_type": "code",
   "execution_count": null,
   "metadata": {},
   "outputs": [],
   "source": [
    "pred = v.model.predict(x_test_re > 0.5, batch_size=100).reshape(x_test.shape[0], x_test.shape[1], x_test.shape[2])\n",
    "print pred.shape"
   ]
  },
  {
   "cell_type": "code",
   "execution_count": null,
   "metadata": {},
   "outputs": [],
   "source": [
    "%matplotlib notebook\n",
    "sample = 300\n",
    "plt.subplot(1,2,1)\n",
    "plt.imshow(x_test[sample,:,:])\n",
    "plt.subplot(1,2,2)\n",
    "plt.imshow(pred[sample,:,:])"
   ]
  },
  {
   "cell_type": "markdown",
   "metadata": {},
   "source": [
    "## Encode some test data"
   ]
  },
  {
   "cell_type": "code",
   "execution_count": null,
   "metadata": {},
   "outputs": [],
   "source": [
    "z = v.encode(x_test_re > 0.5, 'mu')\n",
    "print z.shape"
   ]
  },
  {
   "cell_type": "code",
   "execution_count": null,
   "metadata": {},
   "outputs": [],
   "source": [
    "%matplotlib notebook\n",
    "plt.scatter(z[:,0],z[:,1], c=y_test)\n",
    "Z = np.array([[-2,-1],#1\n",
    "              [3.5,-1],#0\n",
    "              [1.5,3],#7\n",
    "              [-0.5,-4]])#6\n",
    "#plt.scatter(Z[:,0],Z[:,1], c='r')\n",
    "plt.show()\n",
    "plt.xlabel('mu_1')\n",
    "plt.ylabel('mu_2')\n",
    "#plt.colorbar()"
   ]
  },
  {
   "cell_type": "markdown",
   "metadata": {},
   "source": [
    "## VAE Decoding"
   ]
  },
  {
   "cell_type": "code",
   "execution_count": null,
   "metadata": {},
   "outputs": [],
   "source": [
    "LOAD_MODEL = True\n",
    "batch_size = 4\n",
    "if LOAD_MODEL :\n",
    "    v.model.load_weights('/home/gridsan/CH24434/school/vae/saved_models/model1_weights.h5')\n",
    "Z = np.random.normal(size=(batch_size, 2))\n",
    "Z = np.array([[-2,-1],#1\n",
    "              [3.5,-1],#0\n",
    "              [1.5,3],#7\n",
    "              [-0.5,-4]])#6\n",
    "x = v.decode(Z, 'Decode1').reshape(batch_size, 28, 28)\n",
    "print x.shape"
   ]
  },
  {
   "cell_type": "code",
   "execution_count": null,
   "metadata": {},
   "outputs": [],
   "source": [
    "%matplotlib notebook\n",
    "THRESH = None\n",
    "\n",
    "for i in np.arange(0,x.shape[0]) :\n",
    "    plt.subplot(2,2,i+1)\n",
    "    if THRESH :\n",
    "        plt.imshow(x[i,:,:] > THRESH)\n",
    "    else :\n",
    "        plt.imshow(x[i,:,:])\n",
    "    #plt.colorbar()\n",
    "    plt.gca().axes.get_xaxis().set_visible(False)\n",
    "    plt.gca().axes.get_yaxis().set_visible(False)\n",
    "plt.show()"
   ]
  }
 ],
 "metadata": {
  "kernelspec": {
   "display_name": "Python 2",
   "language": "python",
   "name": "python2"
  },
  "language_info": {
   "codemirror_mode": {
    "name": "ipython",
    "version": 2
   },
   "file_extension": ".py",
   "mimetype": "text/x-python",
   "name": "python",
   "nbconvert_exporter": "python",
   "pygments_lexer": "ipython2",
   "version": "2.7.13"
  }
 },
 "nbformat": 4,
 "nbformat_minor": 2
}
