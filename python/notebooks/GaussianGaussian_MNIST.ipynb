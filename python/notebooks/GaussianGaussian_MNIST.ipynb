{
 "cells": [
  {
   "cell_type": "code",
   "execution_count": 8,
   "metadata": {},
   "outputs": [
    {
     "name": "stdout",
     "output_type": "stream",
     "text": [
      "The autoreload extension is already loaded. To reload it, use:\n",
      "  %reload_ext autoreload\n"
     ]
    }
   ],
   "source": [
    "%load_ext autoreload\n",
    "%autoreload 2\n",
    "import vae.VAE\n",
    "from keras.datasets import mnist\n",
    "from keras.models import load_model\n",
    "import matplotlib.pyplot as plt\n",
    "import numpy as np"
   ]
  },
  {
   "cell_type": "markdown",
   "metadata": {},
   "source": [
    "## Load MNIST Data and split into test/train"
   ]
  },
  {
   "cell_type": "code",
   "execution_count": null,
   "metadata": {},
   "outputs": [],
   "source": [
    "(x_train, y_train), (x_test, y_test) = mnist.load_data()\n",
    "x_train = x_train.astype('float32') / 255.\n",
    "x_test = x_test.astype('float32') / 255.\n",
    "x_train_re = x_train.reshape(x_train.shape[0], x_train.shape[1]*x_train.shape[2])\n",
    "x_test_re = x_test.reshape(x_test.shape[0], x_test.shape[1]*x_test.shape[2])\n",
    "print x_train_re.shape\n",
    "print x_test_re.shape"
   ]
  },
  {
   "cell_type": "code",
   "execution_count": null,
   "metadata": {},
   "outputs": [],
   "source": [
    "train_std = np.std(x_train_re, axis=0)\n",
    "train_std[train_std == 0] = 1\n",
    "train_mu = np.mean(x_train_re, axis=0)\n",
    "x_train_re_norm = (x_train_re - train_mu)/train_std\n",
    "x_test_re_norm = (x_test_re - train_mu)/train_std"
   ]
  },
  {
   "cell_type": "markdown",
   "metadata": {},
   "source": [
    "## Instaniate Gaussian-Gaussian VAE and Load Params"
   ]
  },
  {
   "cell_type": "code",
   "execution_count": 9,
   "metadata": {},
   "outputs": [
    {
     "name": "stdout",
     "output_type": "stream",
     "text": [
      "\n",
      "Batch Size: 100\n",
      "Num Epochs: 50\n",
      "Number of Samples: 10\n",
      "\n",
      "VAE Type: HomoscedasticGaussianGaussian\n",
      "\n",
      "Optimizer: Adagrad\n",
      "Learning Rate: 0.01\n",
      "\n",
      "\n",
      "Name: Input\n",
      "Type: Input\n",
      "Output to Loss: False\n",
      "Shape: (784,)\n",
      "\n",
      "\n",
      "\n",
      "Name: Encode1\n",
      "Type: Dense\n",
      "Output to Loss: False\n",
      "Size: 256\n",
      "Activation: relu\n",
      "Reshape: None \n",
      "\n",
      "\n",
      "\n",
      "Name: params_layer\n",
      "Type: DenseKD\n",
      "Output to Loss: True\n",
      "K: 2\n",
      "Concat: False\n",
      "\n",
      "-----\n",
      "Name: mu\n",
      "Type: Dense\n",
      "Output to Loss: False\n",
      "Size: 2\n",
      "Activation: linear\n",
      "Reshape: None \n",
      "\n",
      "-----\n",
      "\n",
      "-----\n",
      "Name: log_sigma\n",
      "Type: Dense\n",
      "Output to Loss: False\n",
      "Size: 2\n",
      "Activation: linear\n",
      "Reshape: None \n",
      "\n",
      "-----\n",
      "\n",
      "\n",
      "\n",
      "Name: Sample1\n",
      "Type: Sample\n",
      "Output to Loss: False\n",
      "Size: 2\n",
      "Distribution: Gaussian\n",
      "\n",
      "\n",
      "\n",
      "Name: Decode1\n",
      "Type: Dense\n",
      "Output to Loss: False\n",
      "Size: 256\n",
      "Activation: relu\n",
      "Reshape: None \n",
      "\n",
      "\n",
      "\n",
      "Name: Decode2\n",
      "Type: Dense\n",
      "Output to Loss: False\n",
      "Size: 784\n",
      "Activation: sigmoid\n",
      "Reshape: None \n",
      "\n",
      "\n",
      "\n",
      "Name: Input\n",
      "Type: Input\n",
      "Output to Loss: False\n",
      "Shape: (784,)\n",
      "\n",
      "\n",
      "\n",
      "Name: Encode1\n",
      "Type: Dense\n",
      "Output to Loss: False\n",
      "Size: 256\n",
      "Activation: relu\n",
      "Reshape: None \n",
      "\n",
      "\n",
      "\n",
      "Name: params_layer\n",
      "Type: DenseKD\n",
      "Output to Loss: True\n",
      "K: 2\n",
      "Concat: False\n",
      "\n",
      "-----\n",
      "Name: mu\n",
      "Type: Dense\n",
      "Output to Loss: False\n",
      "Size: 2\n",
      "Activation: linear\n",
      "Reshape: None \n",
      "\n",
      "-----\n",
      "\n",
      "-----\n",
      "Name: log_sigma\n",
      "Type: Dense\n",
      "Output to Loss: False\n",
      "Size: 2\n",
      "Activation: linear\n",
      "Reshape: None \n",
      "\n",
      "-----\n",
      "\n",
      "\n",
      "\n",
      "Name: Sample1\n",
      "Type: Sample\n",
      "Output to Loss: False\n",
      "Size: 2\n",
      "Distribution: Gaussian\n",
      "\n",
      "\n",
      "\n",
      "Name: Decode1\n",
      "Type: Dense\n",
      "Output to Loss: False\n",
      "Size: 256\n",
      "Activation: relu\n",
      "Reshape: None \n",
      "\n",
      "\n",
      "\n",
      "Name: Decode2\n",
      "Type: Dense\n",
      "Output to Loss: False\n",
      "Size: 784\n",
      "Activation: sigmoid\n",
      "Reshape: None \n",
      "\n",
      "\n",
      "\n",
      "Name: Input\n",
      "Type: Input\n",
      "Output to Loss: False\n",
      "Shape: (784,)\n",
      "\n",
      "\n",
      "\n",
      "Name: Encode1\n",
      "Type: Dense\n",
      "Output to Loss: False\n",
      "Size: 256\n",
      "Activation: relu\n",
      "Reshape: None \n",
      "\n",
      "\n",
      "\n",
      "Name: params_layer\n",
      "Type: DenseKD\n",
      "Output to Loss: True\n",
      "K: 2\n",
      "Concat: False\n",
      "\n",
      "-----\n",
      "Name: mu\n",
      "Type: Dense\n",
      "Output to Loss: False\n",
      "Size: 2\n",
      "Activation: linear\n",
      "Reshape: None \n",
      "\n",
      "-----\n",
      "\n",
      "-----\n",
      "Name: log_sigma\n",
      "Type: Dense\n",
      "Output to Loss: False\n",
      "Size: 2\n",
      "Activation: linear\n",
      "Reshape: None \n",
      "\n",
      "-----\n",
      "\n",
      "\n",
      "\n",
      "Name: Sample1\n",
      "Type: Sample\n",
      "Output to Loss: False\n",
      "Size: 2\n",
      "Distribution: Gaussian\n",
      "\n",
      "\n",
      "\n",
      "Name: Decode1\n",
      "Type: Dense\n",
      "Output to Loss: False\n",
      "Size: 256\n",
      "Activation: relu\n",
      "Reshape: None \n",
      "\n",
      "\n",
      "\n",
      "Name: Decode2\n",
      "Type: Dense\n",
      "Output to Loss: False\n",
      "Size: 784\n",
      "Activation: sigmoid\n",
      "Reshape: None \n",
      "\n",
      "\n",
      "\n",
      "\n"
     ]
    },
    {
     "ename": "TypeError",
     "evalue": "unsupported operand type(s) for +: 'int' and 'tuple'",
     "output_type": "error",
     "traceback": [
      "\u001b[0;31m---------------------------------------------------------------------------\u001b[0m",
      "\u001b[0;31mTypeError\u001b[0m                                 Traceback (most recent call last)",
      "\u001b[0;32m<ipython-input-9-80480276fd96>\u001b[0m in \u001b[0;36m<module>\u001b[0;34m()\u001b[0m\n\u001b[1;32m      5\u001b[0m     \u001b[0mv\u001b[0m \u001b[0;34m=\u001b[0m \u001b[0mvae\u001b[0m\u001b[0;34m.\u001b[0m\u001b[0mVAE\u001b[0m\u001b[0;34m.\u001b[0m\u001b[0mVAE\u001b[0m\u001b[0;34m(\u001b[0m\u001b[0mparam_file\u001b[0m\u001b[0;34m=\u001b[0m\u001b[0;34m'/home/gridsan/CH24434/sandbox/vae/params/hetero_gauss_gauss_mnist.json'\u001b[0m\u001b[0;34m)\u001b[0m\u001b[0;34m\u001b[0m\u001b[0m\n\u001b[1;32m      6\u001b[0m \u001b[0mprint\u001b[0m\u001b[0;34m(\u001b[0m\u001b[0mv\u001b[0m\u001b[0;34m.\u001b[0m\u001b[0mparams\u001b[0m\u001b[0;34m)\u001b[0m\u001b[0;34m\u001b[0m\u001b[0m\n\u001b[0;32m----> 7\u001b[0;31m \u001b[0mv\u001b[0m\u001b[0;34m.\u001b[0m\u001b[0mconstruct\u001b[0m\u001b[0;34m(\u001b[0m\u001b[0;34m)\u001b[0m\u001b[0;34m\u001b[0m\u001b[0m\n\u001b[0m",
      "\u001b[0;32m~/sandbox/vae/python/vae/VAE.py\u001b[0m in \u001b[0;36mconstruct\u001b[0;34m(self)\u001b[0m\n\u001b[1;32m    153\u001b[0m             \u001b[0;32melse\u001b[0m \u001b[0;34m:\u001b[0m\u001b[0;34m\u001b[0m\u001b[0m\n\u001b[1;32m    154\u001b[0m                 \u001b[0msize\u001b[0m\u001b[0;34m,\u001b[0m \u001b[0mrest\u001b[0m \u001b[0;34m=\u001b[0m \u001b[0mlp\u001b[0m\u001b[0;34m[\u001b[0m\u001b[0mi\u001b[0m\u001b[0;34m]\u001b[0m\u001b[0;34m.\u001b[0m\u001b[0mget_keras_params\u001b[0m\u001b[0;34m(\u001b[0m\u001b[0;34m)\u001b[0m\u001b[0;34m\u001b[0m\u001b[0m\n\u001b[0;32m--> 155\u001b[0;31m                 \u001b[0mlayer\u001b[0m \u001b[0;34m=\u001b[0m \u001b[0mDense\u001b[0m\u001b[0;34m(\u001b[0m\u001b[0msize\u001b[0m\u001b[0;34m,\u001b[0m \u001b[0;34m**\u001b[0m\u001b[0mrest\u001b[0m\u001b[0;34m)\u001b[0m\u001b[0;34m(\u001b[0m\u001b[0mlayer\u001b[0m\u001b[0;34m)\u001b[0m\u001b[0;34m\u001b[0m\u001b[0m\n\u001b[0m\u001b[1;32m    156\u001b[0m                 \u001b[0;32mif\u001b[0m \u001b[0mlp\u001b[0m\u001b[0;34m[\u001b[0m\u001b[0mi\u001b[0m\u001b[0;34m]\u001b[0m\u001b[0;34m.\u001b[0m\u001b[0mto_loss\u001b[0m \u001b[0;34m:\u001b[0m\u001b[0;34m\u001b[0m\u001b[0m\n\u001b[1;32m    157\u001b[0m                     \u001b[0mloss_inputs\u001b[0m\u001b[0;34m.\u001b[0m\u001b[0mappend\u001b[0m\u001b[0;34m(\u001b[0m\u001b[0mlayer\u001b[0m\u001b[0;34m)\u001b[0m\u001b[0;34m\u001b[0m\u001b[0m\n",
      "\u001b[0;32m~/.conda/envs/default/lib/python3.6/site-packages/keras/engine/topology.py\u001b[0m in \u001b[0;36m__call__\u001b[0;34m(self, inputs, **kwargs)\u001b[0m\n\u001b[1;32m    590\u001b[0m                                          '`layer.build(batch_input_shape)`')\n\u001b[1;32m    591\u001b[0m                 \u001b[0;32mif\u001b[0m \u001b[0mlen\u001b[0m\u001b[0;34m(\u001b[0m\u001b[0minput_shapes\u001b[0m\u001b[0;34m)\u001b[0m \u001b[0;34m==\u001b[0m \u001b[0;36m1\u001b[0m\u001b[0;34m:\u001b[0m\u001b[0;34m\u001b[0m\u001b[0m\n\u001b[0;32m--> 592\u001b[0;31m                     \u001b[0mself\u001b[0m\u001b[0;34m.\u001b[0m\u001b[0mbuild\u001b[0m\u001b[0;34m(\u001b[0m\u001b[0minput_shapes\u001b[0m\u001b[0;34m[\u001b[0m\u001b[0;36m0\u001b[0m\u001b[0;34m]\u001b[0m\u001b[0;34m)\u001b[0m\u001b[0;34m\u001b[0m\u001b[0m\n\u001b[0m\u001b[1;32m    593\u001b[0m                 \u001b[0;32melse\u001b[0m\u001b[0;34m:\u001b[0m\u001b[0;34m\u001b[0m\u001b[0m\n\u001b[1;32m    594\u001b[0m                     \u001b[0mself\u001b[0m\u001b[0;34m.\u001b[0m\u001b[0mbuild\u001b[0m\u001b[0;34m(\u001b[0m\u001b[0minput_shapes\u001b[0m\u001b[0;34m)\u001b[0m\u001b[0;34m\u001b[0m\u001b[0m\n",
      "\u001b[0;32m~/.conda/envs/default/lib/python3.6/site-packages/keras/layers/core.py\u001b[0m in \u001b[0;36mbuild\u001b[0;34m(self, input_shape)\u001b[0m\n\u001b[1;32m    862\u001b[0m                                       \u001b[0mname\u001b[0m\u001b[0;34m=\u001b[0m\u001b[0;34m'kernel'\u001b[0m\u001b[0;34m,\u001b[0m\u001b[0;34m\u001b[0m\u001b[0m\n\u001b[1;32m    863\u001b[0m                                       \u001b[0mregularizer\u001b[0m\u001b[0;34m=\u001b[0m\u001b[0mself\u001b[0m\u001b[0;34m.\u001b[0m\u001b[0mkernel_regularizer\u001b[0m\u001b[0;34m,\u001b[0m\u001b[0;34m\u001b[0m\u001b[0m\n\u001b[0;32m--> 864\u001b[0;31m                                       constraint=self.kernel_constraint)\n\u001b[0m\u001b[1;32m    865\u001b[0m         \u001b[0;32mif\u001b[0m \u001b[0mself\u001b[0m\u001b[0;34m.\u001b[0m\u001b[0muse_bias\u001b[0m\u001b[0;34m:\u001b[0m\u001b[0;34m\u001b[0m\u001b[0m\n\u001b[1;32m    866\u001b[0m             self.bias = self.add_weight(shape=(self.units,),\n",
      "\u001b[0;32m~/.conda/envs/default/lib/python3.6/site-packages/keras/legacy/interfaces.py\u001b[0m in \u001b[0;36mwrapper\u001b[0;34m(*args, **kwargs)\u001b[0m\n\u001b[1;32m     89\u001b[0m                 warnings.warn('Update your `' + object_name +\n\u001b[1;32m     90\u001b[0m                               '` call to the Keras 2 API: ' + signature, stacklevel=2)\n\u001b[0;32m---> 91\u001b[0;31m             \u001b[0;32mreturn\u001b[0m \u001b[0mfunc\u001b[0m\u001b[0;34m(\u001b[0m\u001b[0;34m*\u001b[0m\u001b[0margs\u001b[0m\u001b[0;34m,\u001b[0m \u001b[0;34m**\u001b[0m\u001b[0mkwargs\u001b[0m\u001b[0;34m)\u001b[0m\u001b[0;34m\u001b[0m\u001b[0m\n\u001b[0m\u001b[1;32m     92\u001b[0m         \u001b[0mwrapper\u001b[0m\u001b[0;34m.\u001b[0m\u001b[0m_original_function\u001b[0m \u001b[0;34m=\u001b[0m \u001b[0mfunc\u001b[0m\u001b[0;34m\u001b[0m\u001b[0m\n\u001b[1;32m     93\u001b[0m         \u001b[0;32mreturn\u001b[0m \u001b[0mwrapper\u001b[0m\u001b[0;34m\u001b[0m\u001b[0m\n",
      "\u001b[0;32m~/.conda/envs/default/lib/python3.6/site-packages/keras/engine/topology.py\u001b[0m in \u001b[0;36madd_weight\u001b[0;34m(self, name, shape, dtype, initializer, regularizer, trainable, constraint)\u001b[0m\n\u001b[1;32m    411\u001b[0m         \u001b[0;32mif\u001b[0m \u001b[0mdtype\u001b[0m \u001b[0;32mis\u001b[0m \u001b[0;32mNone\u001b[0m\u001b[0;34m:\u001b[0m\u001b[0;34m\u001b[0m\u001b[0m\n\u001b[1;32m    412\u001b[0m             \u001b[0mdtype\u001b[0m \u001b[0;34m=\u001b[0m \u001b[0mK\u001b[0m\u001b[0;34m.\u001b[0m\u001b[0mfloatx\u001b[0m\u001b[0;34m(\u001b[0m\u001b[0;34m)\u001b[0m\u001b[0;34m\u001b[0m\u001b[0m\n\u001b[0;32m--> 413\u001b[0;31m         weight = K.variable(initializer(shape),\n\u001b[0m\u001b[1;32m    414\u001b[0m                             \u001b[0mdtype\u001b[0m\u001b[0;34m=\u001b[0m\u001b[0mdtype\u001b[0m\u001b[0;34m,\u001b[0m\u001b[0;34m\u001b[0m\u001b[0m\n\u001b[1;32m    415\u001b[0m                             \u001b[0mname\u001b[0m\u001b[0;34m=\u001b[0m\u001b[0mname\u001b[0m\u001b[0;34m,\u001b[0m\u001b[0;34m\u001b[0m\u001b[0m\n",
      "\u001b[0;32m~/.conda/envs/default/lib/python3.6/site-packages/keras/initializers.py\u001b[0m in \u001b[0;36m__call__\u001b[0;34m(self, shape, dtype)\u001b[0m\n\u001b[1;32m    207\u001b[0m             \u001b[0mscale\u001b[0m \u001b[0;34m/=\u001b[0m \u001b[0mmax\u001b[0m\u001b[0;34m(\u001b[0m\u001b[0;36m1.\u001b[0m\u001b[0;34m,\u001b[0m \u001b[0mfan_out\u001b[0m\u001b[0;34m)\u001b[0m\u001b[0;34m\u001b[0m\u001b[0m\n\u001b[1;32m    208\u001b[0m         \u001b[0;32melse\u001b[0m\u001b[0;34m:\u001b[0m\u001b[0;34m\u001b[0m\u001b[0m\n\u001b[0;32m--> 209\u001b[0;31m             \u001b[0mscale\u001b[0m \u001b[0;34m/=\u001b[0m \u001b[0mmax\u001b[0m\u001b[0;34m(\u001b[0m\u001b[0;36m1.\u001b[0m\u001b[0;34m,\u001b[0m \u001b[0mfloat\u001b[0m\u001b[0;34m(\u001b[0m\u001b[0mfan_in\u001b[0m \u001b[0;34m+\u001b[0m \u001b[0mfan_out\u001b[0m\u001b[0;34m)\u001b[0m \u001b[0;34m/\u001b[0m \u001b[0;36m2\u001b[0m\u001b[0;34m)\u001b[0m\u001b[0;34m\u001b[0m\u001b[0m\n\u001b[0m\u001b[1;32m    210\u001b[0m         \u001b[0;32mif\u001b[0m \u001b[0mself\u001b[0m\u001b[0;34m.\u001b[0m\u001b[0mdistribution\u001b[0m \u001b[0;34m==\u001b[0m \u001b[0;34m'normal'\u001b[0m\u001b[0;34m:\u001b[0m\u001b[0;34m\u001b[0m\u001b[0m\n\u001b[1;32m    211\u001b[0m             \u001b[0mstddev\u001b[0m \u001b[0;34m=\u001b[0m \u001b[0mnp\u001b[0m\u001b[0;34m.\u001b[0m\u001b[0msqrt\u001b[0m\u001b[0;34m(\u001b[0m\u001b[0mscale\u001b[0m\u001b[0;34m)\u001b[0m\u001b[0;34m\u001b[0m\u001b[0m\n",
      "\u001b[0;31mTypeError\u001b[0m: unsupported operand type(s) for +: 'int' and 'tuple'"
     ]
    }
   ],
   "source": [
    "homoscedastic = True  # const var\n",
    "if homoscedastic :\n",
    "    v = vae.VAE.VAE(param_file='/home/gridsan/CH24434/sandbox/vae/params/homo_gauss_gauss_mnist.json')\n",
    "else :\n",
    "    v = vae.VAE.VAE(param_file='/home/gridsan/CH24434/sandbox/vae/params/hetero_gauss_gauss_mnist.json')\n",
    "print(v.params)\n",
    "v.construct()"
   ]
  },
  {
   "cell_type": "markdown",
   "metadata": {},
   "source": [
    "## Optionally Load a Saved Model"
   ]
  },
  {
   "cell_type": "code",
   "execution_count": null,
   "metadata": {},
   "outputs": [],
   "source": [
    "LOAD_MODEL = True\n",
    "if LOAD_MODEL :\n",
    "    if homoscedastic :\n",
    "        v.model.load_weights('../saved_models/homo_gauss_gauss_mnist.h5')\n",
    "    else :\n",
    "        v.model.load_weights('../saved_models/hetero_gauss_gauss_mnist.h5')"
   ]
  },
  {
   "cell_type": "markdown",
   "metadata": {},
   "source": [
    "## Fit the VAE"
   ]
  },
  {
   "cell_type": "code",
   "execution_count": null,
   "metadata": {},
   "outputs": [],
   "source": [
    "if homoscedastic :\n",
    "    v.fit(x_train_re, shuffle=True, add_axis=False)\n",
    "else :\n",
    "    v.fit(x_train_re, shuffle=True, add_axis=True)"
   ]
  },
  {
   "cell_type": "code",
   "execution_count": null,
   "metadata": {},
   "outputs": [],
   "source": [
    "v.model.save_weights('../saved_models/hetero_gauss_gauss_mnist.h5')"
   ]
  },
  {
   "cell_type": "markdown",
   "metadata": {},
   "source": [
    "## Run model on test data"
   ]
  },
  {
   "cell_type": "code",
   "execution_count": null,
   "metadata": {},
   "outputs": [],
   "source": [
    "if homoscedastic :\n",
    "    pred = v.model.predict(x_test_re, batch_size=100).reshape(len(x_test_re),28,28)\n",
    "else :\n",
    "    pred = v.model.predict(x_test_re, batch_size=100)\n",
    "print pred.shape"
   ]
  },
  {
   "cell_type": "code",
   "execution_count": null,
   "metadata": {},
   "outputs": [],
   "source": [
    "pred = mu_log_var.reshape(len(x_test_re),28,28,2)\n",
    "print pred.shape"
   ]
  },
  {
   "cell_type": "code",
   "execution_count": null,
   "metadata": {},
   "outputs": [],
   "source": [
    "%matplotlib notebook\n",
    "sample = 310\n",
    "\n",
    "plt.subplot(1,2,1)\n",
    "plt.imshow(x_test[sample,:,:])\n",
    "plt.gca().axes.get_xaxis().set_visible(False)\n",
    "plt.gca().axes.get_yaxis().set_visible(False)\n",
    "plt.subplot(1,2,2)\n",
    "if homoscedastic :\n",
    "    plt.imshow(pred[sample,:,:])\n",
    "else :\n",
    "    plt.imshow(pred[sample,:,0].reshape(28,28))\n",
    "plt.gca().axes.get_xaxis().set_visible(False)\n",
    "plt.gca().axes.get_yaxis().set_visible(False)"
   ]
  },
  {
   "cell_type": "markdown",
   "metadata": {},
   "source": [
    "## Reconstruction Error"
   ]
  },
  {
   "cell_type": "code",
   "execution_count": null,
   "metadata": {},
   "outputs": [],
   "source": [
    "%matplotlib notebook\n",
    "#abs_loss_ber = np.genfromtxt('../data/ber_gauss_recon.loss')\n",
    "lw = 2.5\n",
    "N, W, H =  x_test.shape\n",
    "abs_loss = np.abs(x_test-pred)\n",
    "abs_loss = abs_loss.reshape(N*W*H)\n",
    "plt.plot(np.sort(abs_loss), linewidth=lw, label='Gaussian-Gaussian Recon Loss')\n",
    "plt.plot(np.sort(abs_loss_ber), linewidth=lw, label='Bernoulli-Gaussian Recon Loss')\n",
    "plt.gca().axes.get_xaxis().set_ticks([])\n",
    "plt.grid()\n",
    "plt.legend(loc=2)\n",
    "plt.ylabel('Absolute Difference')\n",
    "plt.xlabel('Test Example')\n",
    "plt.show()"
   ]
  },
  {
   "cell_type": "markdown",
   "metadata": {},
   "source": [
    "## Encode some test data"
   ]
  },
  {
   "cell_type": "code",
   "execution_count": null,
   "metadata": {},
   "outputs": [],
   "source": [
    "ENCODE_MU = True\n",
    "if ENCODE_MU :\n",
    "    z = v.encode(x_test_re, 'mu')\n",
    "else :\n",
    "    z = np.exp(v.encode(x_test_re, 'log_sigma',skip=['mu']))\n",
    "print z.shape"
   ]
  },
  {
   "cell_type": "code",
   "execution_count": null,
   "metadata": {},
   "outputs": [],
   "source": [
    "%matplotlib notebook\n",
    "cmap = plt.get_cmap('jet', 10)\n",
    "plt.scatter(z[:,0],z[:,1], c=y_test, cmap=cmap)\n",
    "plt.show()\n",
    "if ENCODE_MU :\n",
    "    plt.xlabel('mu_1')\n",
    "    plt.ylabel('mu_2')\n",
    "else :\n",
    "    plt.xlabel('log_var')\n",
    "    plt.ylabel('log_var')\n",
    "plt.colorbar()"
   ]
  },
  {
   "cell_type": "markdown",
   "metadata": {},
   "source": [
    "## VAE Decoding"
   ]
  },
  {
   "cell_type": "code",
   "execution_count": null,
   "metadata": {},
   "outputs": [],
   "source": [
    "batch_size = 4\n",
    "Z = np.random.normal(size=(batch_size, 2))\n",
    "Z = np.array([[1,-2],#1\n",
    "              [-1,2],#0\n",
    "              [-1.1,-2],#7\n",
    "              [2.5,1.5]])#3\n",
    "x = v.decode(Z, 'Decode1').reshape(batch_size, 28, 28)\n",
    "print x.shape"
   ]
  },
  {
   "cell_type": "code",
   "execution_count": null,
   "metadata": {},
   "outputs": [],
   "source": [
    "%matplotlib notebook\n",
    "THRESH = None\n",
    "\n",
    "for i in np.arange(0,x.shape[0]) :\n",
    "    plt.subplot(2,2,i+1)\n",
    "    if THRESH :\n",
    "        plt.imshow(x[i,:,:] > THRESH)\n",
    "    else :\n",
    "        plt.imshow(x[i,:,:])\n",
    "    #plt.colorbar()\n",
    "    plt.gca().axes.get_xaxis().set_visible(False)\n",
    "    plt.gca().axes.get_yaxis().set_visible(False)\n",
    "plt.show()"
   ]
  }
 ],
 "metadata": {
  "kernelspec": {
   "display_name": "Python 3",
   "language": "python",
   "name": "python3"
  },
  "language_info": {
   "codemirror_mode": {
    "name": "ipython",
    "version": 3
   },
   "file_extension": ".py",
   "mimetype": "text/x-python",
   "name": "python",
   "nbconvert_exporter": "python",
   "pygments_lexer": "ipython3",
   "version": "3.6.5"
  }
 },
 "nbformat": 4,
 "nbformat_minor": 2
}
