{
 "cells": [
  {
   "cell_type": "code",
   "execution_count": null,
   "metadata": {},
   "outputs": [],
   "source": [
    "%load_ext autoreload\n",
    "%autoreload 2\n",
    "import MultinoulliMixture\n",
    "from keras.datasets import mnist\n",
    "import numpy as np\n",
    "import matplotlib.pyplot as plt"
   ]
  },
  {
   "cell_type": "markdown",
   "metadata": {},
   "source": [
    "## Load MNIST Data and Split into Test/Train"
   ]
  },
  {
   "cell_type": "code",
   "execution_count": null,
   "metadata": {},
   "outputs": [],
   "source": [
    "(x_train, y_train), (x_test, y_test) = mnist.load_data()\n",
    "x_train = x_train.astype('float32') / 255.\n",
    "x_test = x_test.astype('float32') / 255.\n",
    "x_train_re = x_train.reshape(x_train.shape[0], x_train.shape[1]*x_train.shape[2])\n",
    "x_test_re = x_test.reshape(x_test.shape[0], x_test.shape[1]*x_test.shape[2])\n",
    "print x_train_re.shape\n",
    "print x_test_re.shape"
   ]
  },
  {
   "cell_type": "markdown",
   "metadata": {},
   "source": [
    "# Train Multinomial Mixture"
   ]
  },
  {
   "cell_type": "code",
   "execution_count": null,
   "metadata": {},
   "outputs": [],
   "source": [
    "SK = 0\n",
    "EK = 9\n",
    "tset = None\n",
    "\n",
    "def stack_np(a, b, dim=3) :                                           \n",
    "        if a is None :                                                          \n",
    "            return b                                                            \n",
    "        else :                                                                  \n",
    "            return np.concatenate((a, b), axis=dim-1)\n",
    "\n",
    "for i in range(SK, EK+1) :\n",
    "    tset = stack_np(tset, x_train_re[y_train == i,:], dim=1)\n",
    "print tset.shape"
   ]
  },
  {
   "cell_type": "code",
   "execution_count": null,
   "metadata": {},
   "outputs": [],
   "source": [
    "mm = MultinoulliMixture.MultinoulliMixture(num_latent=EK-SK+1)\n",
    "mm.fit(tset > 0.5, num_iters=50)"
   ]
  },
  {
   "cell_type": "code",
   "execution_count": null,
   "metadata": {},
   "outputs": [],
   "source": [
    "%matplotlib notebook\n",
    "spc = 1\n",
    "for i in range(SK,EK+1) :\n",
    "    plt.subplot(2,5,spc)\n",
    "    plt.imshow(mm.mu[spc-1,:].reshape(28,28))\n",
    "    spc += 1\n",
    "    plt.gca().axes.get_xaxis().set_visible(False)\n",
    "    plt.gca().axes.get_yaxis().set_visible(False)"
   ]
  }
 ],
 "metadata": {
  "kernelspec": {
   "display_name": "Python 2",
   "language": "python",
   "name": "python2"
  },
  "language_info": {
   "codemirror_mode": {
    "name": "ipython",
    "version": 2
   },
   "file_extension": ".py",
   "mimetype": "text/x-python",
   "name": "python",
   "nbconvert_exporter": "python",
   "pygments_lexer": "ipython2",
   "version": "2.7.13"
  }
 },
 "nbformat": 4,
 "nbformat_minor": 2
}
